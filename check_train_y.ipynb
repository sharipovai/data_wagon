{
 "cells": [
  {
   "cell_type": "code",
   "execution_count": 1,
   "id": "5725a96c-afa6-4193-882c-2c195226a8a0",
   "metadata": {},
   "outputs": [],
   "source": [
    "import pandas as pd"
   ]
  },
  {
   "cell_type": "code",
   "execution_count": 6,
   "id": "295cc61c-cc94-4db1-a9f6-780ff950b3df",
   "metadata": {},
   "outputs": [
    {
     "data": {
      "text/html": [
       "<div>\n",
       "<style scoped>\n",
       "    .dataframe tbody tr th:only-of-type {\n",
       "        vertical-align: middle;\n",
       "    }\n",
       "\n",
       "    .dataframe tbody tr th {\n",
       "        vertical-align: top;\n",
       "    }\n",
       "\n",
       "    .dataframe thead th {\n",
       "        text-align: right;\n",
       "    }\n",
       "</style>\n",
       "<table border=\"1\" class=\"dataframe\">\n",
       "  <thead>\n",
       "    <tr style=\"text-align: right;\">\n",
       "      <th></th>\n",
       "      <th>wagnum</th>\n",
       "      <th>month</th>\n",
       "      <th>target_month</th>\n",
       "      <th>target_day</th>\n",
       "    </tr>\n",
       "  </thead>\n",
       "  <tbody>\n",
       "    <tr>\n",
       "      <th>0</th>\n",
       "      <td>33361</td>\n",
       "      <td>2023-01-01</td>\n",
       "      <td>0</td>\n",
       "      <td>0</td>\n",
       "    </tr>\n",
       "    <tr>\n",
       "      <th>1</th>\n",
       "      <td>33364</td>\n",
       "      <td>2023-01-01</td>\n",
       "      <td>0</td>\n",
       "      <td>0</td>\n",
       "    </tr>\n",
       "    <tr>\n",
       "      <th>2</th>\n",
       "      <td>33366</td>\n",
       "      <td>2023-01-01</td>\n",
       "      <td>0</td>\n",
       "      <td>0</td>\n",
       "    </tr>\n",
       "    <tr>\n",
       "      <th>3</th>\n",
       "      <td>33358</td>\n",
       "      <td>2023-01-01</td>\n",
       "      <td>0</td>\n",
       "      <td>0</td>\n",
       "    </tr>\n",
       "    <tr>\n",
       "      <th>4</th>\n",
       "      <td>33349</td>\n",
       "      <td>2023-01-01</td>\n",
       "      <td>0</td>\n",
       "      <td>0</td>\n",
       "    </tr>\n",
       "    <tr>\n",
       "      <th>...</th>\n",
       "      <td>...</td>\n",
       "      <td>...</td>\n",
       "      <td>...</td>\n",
       "      <td>...</td>\n",
       "    </tr>\n",
       "    <tr>\n",
       "      <th>203848</th>\n",
       "      <td>25045</td>\n",
       "      <td>2022-12-01</td>\n",
       "      <td>0</td>\n",
       "      <td>0</td>\n",
       "    </tr>\n",
       "    <tr>\n",
       "      <th>203849</th>\n",
       "      <td>27156</td>\n",
       "      <td>2022-12-01</td>\n",
       "      <td>0</td>\n",
       "      <td>0</td>\n",
       "    </tr>\n",
       "    <tr>\n",
       "      <th>203850</th>\n",
       "      <td>21361</td>\n",
       "      <td>2022-12-01</td>\n",
       "      <td>0</td>\n",
       "      <td>0</td>\n",
       "    </tr>\n",
       "    <tr>\n",
       "      <th>203851</th>\n",
       "      <td>8061</td>\n",
       "      <td>2022-12-01</td>\n",
       "      <td>0</td>\n",
       "      <td>0</td>\n",
       "    </tr>\n",
       "    <tr>\n",
       "      <th>203852</th>\n",
       "      <td>33350</td>\n",
       "      <td>2022-12-01</td>\n",
       "      <td>1</td>\n",
       "      <td>0</td>\n",
       "    </tr>\n",
       "  </tbody>\n",
       "</table>\n",
       "<p>203853 rows × 4 columns</p>\n",
       "</div>"
      ],
      "text/plain": [
       "        wagnum       month  target_month  target_day\n",
       "0        33361  2023-01-01             0           0\n",
       "1        33364  2023-01-01             0           0\n",
       "2        33366  2023-01-01             0           0\n",
       "3        33358  2023-01-01             0           0\n",
       "4        33349  2023-01-01             0           0\n",
       "...        ...         ...           ...         ...\n",
       "203848   25045  2022-12-01             0           0\n",
       "203849   27156  2022-12-01             0           0\n",
       "203850   21361  2022-12-01             0           0\n",
       "203851    8061  2022-12-01             0           0\n",
       "203852   33350  2022-12-01             1           0\n",
       "\n",
       "[203853 rows x 4 columns]"
      ]
     },
     "execution_count": 6,
     "metadata": {},
     "output_type": "execute_result"
    }
   ],
   "source": [
    "train = pd.read_csv('./target/y_train.csv')\n",
    "train"
   ]
  },
  {
   "cell_type": "code",
   "execution_count": 28,
   "id": "ef322738-c24a-4d5f-aa64-29b41a6e3cbd",
   "metadata": {},
   "outputs": [
    {
     "data": {
      "text/plain": [
       "wagnum\n",
       "0        [2023-01-01, 2022-08-01, 2022-09-01, 2022-10-0...\n",
       "1        [2023-01-01, 2022-08-01, 2022-09-01, 2022-10-0...\n",
       "2        [2023-01-01, 2022-08-01, 2022-09-01, 2022-10-0...\n",
       "3        [2023-01-01, 2022-08-01, 2022-09-01, 2022-10-0...\n",
       "4        [2023-01-01, 2022-08-01, 2022-09-01, 2022-10-0...\n",
       "                               ...                        \n",
       "33972    [2023-01-01, 2022-08-01, 2022-09-01, 2022-10-0...\n",
       "33973    [2023-01-01, 2022-08-01, 2022-09-01, 2022-10-0...\n",
       "33974    [2023-01-01, 2022-08-01, 2022-09-01, 2022-10-0...\n",
       "33975    [2023-01-01, 2022-08-01, 2022-09-01, 2022-10-0...\n",
       "33976    [2023-01-01, 2022-08-01, 2022-09-01, 2022-10-0...\n",
       "Name: month, Length: 33977, dtype: object"
      ]
     },
     "execution_count": 28,
     "metadata": {},
     "output_type": "execute_result"
    }
   ],
   "source": [
    "group_train = train.groupby('wagnum')['month'].apply(list)\n",
    "group_train"
   ]
  },
  {
   "cell_type": "code",
   "execution_count": 48,
   "id": "e6663f31-1836-4ebd-b40f-15014ec80af5",
   "metadata": {},
   "outputs": [
    {
     "name": "stdout",
     "output_type": "stream",
     "text": [
      "8061 : ['2023-01-01', '2022-09-01', '2022-10-01', '2022-11-01', '2022-12-01']\n",
      "8099 : ['2022-08-01', '2022-09-01', '2022-10-01', '2022-11-01', '2022-12-01']\n",
      "26318 : ['2022-08-01', '2022-09-01', '2022-10-01', '2022-11-01', '2022-12-01']\n",
      "28344 : ['2022-08-01', '2022-09-01', '2022-10-01', '2022-11-01', '2022-12-01']\n",
      "33350 : ['2022-12-01']\n"
     ]
    }
   ],
   "source": [
    "for i in range(len(group_train)):\n",
    "    if len(group_train[i]) != 6:\n",
    "        print(group_train.index[i], ':', group_train[i])"
   ]
  }
 ],
 "metadata": {
  "kernelspec": {
   "display_name": "data_wagon",
   "language": "python",
   "name": "data_wagon"
  },
  "language_info": {
   "codemirror_mode": {
    "name": "ipython",
    "version": 3
   },
   "file_extension": ".py",
   "mimetype": "text/x-python",
   "name": "python",
   "nbconvert_exporter": "python",
   "pygments_lexer": "ipython3",
   "version": "3.11.4"
  }
 },
 "nbformat": 4,
 "nbformat_minor": 5
}
