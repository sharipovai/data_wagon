{
 "cells": [
  {
   "cell_type": "code",
   "execution_count": 1,
   "metadata": {
    "ExecuteTime": {
     "end_time": "2023-10-30T12:12:44.453550500Z",
     "start_time": "2023-10-30T12:12:31.873323700Z"
    }
   },
   "outputs": [],
   "source": [
    "import pandas as pd\n",
    "import numpy as np\n"
   ]
  },
  {
   "cell_type": "code",
   "execution_count": 2,
   "metadata": {
    "pycharm": {
     "name": "#%%\n"
    }
   },
   "outputs": [],
   "source": [
    "from metrics_f1 import calc_f1_score"
   ]
  },
  {
   "cell_type": "markdown",
   "metadata": {},
   "source": [
    "## Загрузка данных"
   ]
  },
  {
   "cell_type": "code",
   "execution_count": 3,
   "metadata": {
    "pycharm": {
     "name": "#%%\n"
    }
   },
   "outputs": [],
   "source": [
    "path_train = r\"./\""
   ]
  },
  {
   "cell_type": "code",
   "execution_count": 4,
   "metadata": {
    "pycharm": {
     "name": "#%%\n"
    }
   },
   "outputs": [],
   "source": [
    "# данные по дислокации\n",
    "dislok = pd.read_parquet(path_train + '/dislok_wagons.parquet').convert_dtypes()\n",
    "# данные по текущим ремонтам\n",
    "pr_rem = pd.read_parquet(path_train + '/pr_rems.parquet').convert_dtypes()\n",
    "# список вагонов с остаточным пробегом на момент прогноза\n",
    "wag_prob = pd.read_parquet(path_train + '/wagons_probeg_ownersip.parquet').convert_dtypes()\n",
    " # параметры вагона\n",
    "wag_param = pd.read_parquet(path_train + '/wag_params.parquet').convert_dtypes()\n",
    "# таргет по прогноза выбытия вагонов в ПР на месяц и на 10 дней\n",
    "target = pd.read_csv(path_train +'/target/y_train.csv').convert_dtypes()\n",
    " # текущие ремонты вагонов\n",
    "tr_rem = pd.read_parquet(path_train + '/tr_rems.parquet').convert_dtypes()"
   ]
  },
  {
   "cell_type": "code",
   "execution_count": 32,
   "metadata": {},
   "outputs": [
    {
     "data": {
      "text/html": [
       "<div>\n",
       "<style scoped>\n",
       "    .dataframe tbody tr th:only-of-type {\n",
       "        vertical-align: middle;\n",
       "    }\n",
       "\n",
       "    .dataframe tbody tr th {\n",
       "        vertical-align: top;\n",
       "    }\n",
       "\n",
       "    .dataframe thead th {\n",
       "        text-align: right;\n",
       "    }\n",
       "</style>\n",
       "<table border=\"1\" class=\"dataframe\">\n",
       "  <thead>\n",
       "    <tr style=\"text-align: right;\">\n",
       "      <th></th>\n",
       "      <th>plan_date</th>\n",
       "      <th>wagnum</th>\n",
       "      <th>date_kap</th>\n",
       "      <th>date_dep</th>\n",
       "      <th>kod_vrab</th>\n",
       "      <th>date_pl_rem</th>\n",
       "      <th>id_road_disl</th>\n",
       "      <th>st_id_dest</th>\n",
       "      <th>id_road_dest</th>\n",
       "      <th>st_id_send</th>\n",
       "      <th>id_road_send</th>\n",
       "      <th>ost_prob</th>\n",
       "      <th>isload</th>\n",
       "      <th>fr_id</th>\n",
       "      <th>last_fr_id</th>\n",
       "      <th>distance</th>\n",
       "    </tr>\n",
       "  </thead>\n",
       "  <tbody>\n",
       "    <tr>\n",
       "      <th>0</th>\n",
       "      <td>2022-08-01</td>\n",
       "      <td>1071</td>\n",
       "      <td>NaT</td>\n",
       "      <td>2020-02-16</td>\n",
       "      <td>0</td>\n",
       "      <td>2023-02-16</td>\n",
       "      <td>42</td>\n",
       "      <td>22</td>\n",
       "      <td>42</td>\n",
       "      <td>11470</td>\n",
       "      <td>42</td>\n",
       "      <td>36899</td>\n",
       "      <td>0</td>\n",
       "      <td>5032</td>\n",
       "      <td>1413</td>\n",
       "      <td>-1</td>\n",
       "    </tr>\n",
       "    <tr>\n",
       "      <th>1</th>\n",
       "      <td>2022-08-02</td>\n",
       "      <td>1071</td>\n",
       "      <td>NaT</td>\n",
       "      <td>2020-02-16</td>\n",
       "      <td>0</td>\n",
       "      <td>2023-02-16</td>\n",
       "      <td>42</td>\n",
       "      <td>11663</td>\n",
       "      <td>0</td>\n",
       "      <td>11470</td>\n",
       "      <td>42</td>\n",
       "      <td>36899</td>\n",
       "      <td>1</td>\n",
       "      <td>1204</td>\n",
       "      <td>1204</td>\n",
       "      <td>998</td>\n",
       "    </tr>\n",
       "    <tr>\n",
       "      <th>2</th>\n",
       "      <td>2022-08-03</td>\n",
       "      <td>1071</td>\n",
       "      <td>NaT</td>\n",
       "      <td>2020-02-16</td>\n",
       "      <td>0</td>\n",
       "      <td>2023-02-16</td>\n",
       "      <td>42</td>\n",
       "      <td>11663</td>\n",
       "      <td>0</td>\n",
       "      <td>11470</td>\n",
       "      <td>42</td>\n",
       "      <td>36711</td>\n",
       "      <td>1</td>\n",
       "      <td>1204</td>\n",
       "      <td>1204</td>\n",
       "      <td>989</td>\n",
       "    </tr>\n",
       "    <tr>\n",
       "      <th>3</th>\n",
       "      <td>2022-08-04</td>\n",
       "      <td>1071</td>\n",
       "      <td>NaT</td>\n",
       "      <td>2020-02-16</td>\n",
       "      <td>0</td>\n",
       "      <td>2023-02-16</td>\n",
       "      <td>42</td>\n",
       "      <td>11663</td>\n",
       "      <td>0</td>\n",
       "      <td>11470</td>\n",
       "      <td>42</td>\n",
       "      <td>36711</td>\n",
       "      <td>1</td>\n",
       "      <td>1204</td>\n",
       "      <td>1204</td>\n",
       "      <td>939</td>\n",
       "    </tr>\n",
       "    <tr>\n",
       "      <th>4</th>\n",
       "      <td>2022-08-05</td>\n",
       "      <td>1071</td>\n",
       "      <td>NaT</td>\n",
       "      <td>2020-02-16</td>\n",
       "      <td>0</td>\n",
       "      <td>2023-02-16</td>\n",
       "      <td>42</td>\n",
       "      <td>11663</td>\n",
       "      <td>0</td>\n",
       "      <td>11470</td>\n",
       "      <td>42</td>\n",
       "      <td>36711</td>\n",
       "      <td>1</td>\n",
       "      <td>1204</td>\n",
       "      <td>1204</td>\n",
       "      <td>963</td>\n",
       "    </tr>\n",
       "    <tr>\n",
       "      <th>...</th>\n",
       "      <td>...</td>\n",
       "      <td>...</td>\n",
       "      <td>...</td>\n",
       "      <td>...</td>\n",
       "      <td>...</td>\n",
       "      <td>...</td>\n",
       "      <td>...</td>\n",
       "      <td>...</td>\n",
       "      <td>...</td>\n",
       "      <td>...</td>\n",
       "      <td>...</td>\n",
       "      <td>...</td>\n",
       "      <td>...</td>\n",
       "      <td>...</td>\n",
       "      <td>...</td>\n",
       "      <td>...</td>\n",
       "    </tr>\n",
       "    <tr>\n",
       "      <th>1052920</th>\n",
       "      <td>2023-01-27</td>\n",
       "      <td>9554</td>\n",
       "      <td>2009-10-13</td>\n",
       "      <td>2021-08-23</td>\n",
       "      <td>1</td>\n",
       "      <td>2024-08-23</td>\n",
       "      <td>37</td>\n",
       "      <td>22</td>\n",
       "      <td>37</td>\n",
       "      <td>12647</td>\n",
       "      <td>37</td>\n",
       "      <td>87693</td>\n",
       "      <td>0</td>\n",
       "      <td>5032</td>\n",
       "      <td>3253</td>\n",
       "      <td>-1</td>\n",
       "    </tr>\n",
       "    <tr>\n",
       "      <th>1052921</th>\n",
       "      <td>2023-01-28</td>\n",
       "      <td>9554</td>\n",
       "      <td>2009-10-13</td>\n",
       "      <td>2021-08-23</td>\n",
       "      <td>1</td>\n",
       "      <td>2024-08-23</td>\n",
       "      <td>37</td>\n",
       "      <td>22</td>\n",
       "      <td>37</td>\n",
       "      <td>12647</td>\n",
       "      <td>37</td>\n",
       "      <td>87693</td>\n",
       "      <td>0</td>\n",
       "      <td>5032</td>\n",
       "      <td>3253</td>\n",
       "      <td>-1</td>\n",
       "    </tr>\n",
       "    <tr>\n",
       "      <th>1052922</th>\n",
       "      <td>2023-01-29</td>\n",
       "      <td>9554</td>\n",
       "      <td>2009-10-13</td>\n",
       "      <td>2021-08-23</td>\n",
       "      <td>1</td>\n",
       "      <td>2024-08-23</td>\n",
       "      <td>37</td>\n",
       "      <td>22</td>\n",
       "      <td>37</td>\n",
       "      <td>12647</td>\n",
       "      <td>37</td>\n",
       "      <td>87693</td>\n",
       "      <td>0</td>\n",
       "      <td>5032</td>\n",
       "      <td>3253</td>\n",
       "      <td>-1</td>\n",
       "    </tr>\n",
       "    <tr>\n",
       "      <th>1052923</th>\n",
       "      <td>2023-01-30</td>\n",
       "      <td>9554</td>\n",
       "      <td>2009-10-13</td>\n",
       "      <td>2021-08-23</td>\n",
       "      <td>1</td>\n",
       "      <td>2024-08-23</td>\n",
       "      <td>37</td>\n",
       "      <td>22</td>\n",
       "      <td>37</td>\n",
       "      <td>12647</td>\n",
       "      <td>37</td>\n",
       "      <td>87693</td>\n",
       "      <td>0</td>\n",
       "      <td>5032</td>\n",
       "      <td>3253</td>\n",
       "      <td>-1</td>\n",
       "    </tr>\n",
       "    <tr>\n",
       "      <th>1052924</th>\n",
       "      <td>2023-01-31</td>\n",
       "      <td>9554</td>\n",
       "      <td>2009-10-13</td>\n",
       "      <td>2021-08-23</td>\n",
       "      <td>1</td>\n",
       "      <td>2024-08-23</td>\n",
       "      <td>37</td>\n",
       "      <td>22</td>\n",
       "      <td>37</td>\n",
       "      <td>12647</td>\n",
       "      <td>37</td>\n",
       "      <td>87693</td>\n",
       "      <td>0</td>\n",
       "      <td>5032</td>\n",
       "      <td>3253</td>\n",
       "      <td>-1</td>\n",
       "    </tr>\n",
       "  </tbody>\n",
       "</table>\n",
       "<p>6250933 rows × 16 columns</p>\n",
       "</div>"
      ],
      "text/plain": [
       "         plan_date  wagnum   date_kap   date_dep  kod_vrab date_pl_rem  \\\n",
       "0       2022-08-01    1071        NaT 2020-02-16         0  2023-02-16   \n",
       "1       2022-08-02    1071        NaT 2020-02-16         0  2023-02-16   \n",
       "2       2022-08-03    1071        NaT 2020-02-16         0  2023-02-16   \n",
       "3       2022-08-04    1071        NaT 2020-02-16         0  2023-02-16   \n",
       "4       2022-08-05    1071        NaT 2020-02-16         0  2023-02-16   \n",
       "...            ...     ...        ...        ...       ...         ...   \n",
       "1052920 2023-01-27    9554 2009-10-13 2021-08-23         1  2024-08-23   \n",
       "1052921 2023-01-28    9554 2009-10-13 2021-08-23         1  2024-08-23   \n",
       "1052922 2023-01-29    9554 2009-10-13 2021-08-23         1  2024-08-23   \n",
       "1052923 2023-01-30    9554 2009-10-13 2021-08-23         1  2024-08-23   \n",
       "1052924 2023-01-31    9554 2009-10-13 2021-08-23         1  2024-08-23   \n",
       "\n",
       "         id_road_disl  st_id_dest  id_road_dest  st_id_send  id_road_send  \\\n",
       "0                  42          22            42       11470            42   \n",
       "1                  42       11663             0       11470            42   \n",
       "2                  42       11663             0       11470            42   \n",
       "3                  42       11663             0       11470            42   \n",
       "4                  42       11663             0       11470            42   \n",
       "...               ...         ...           ...         ...           ...   \n",
       "1052920            37          22            37       12647            37   \n",
       "1052921            37          22            37       12647            37   \n",
       "1052922            37          22            37       12647            37   \n",
       "1052923            37          22            37       12647            37   \n",
       "1052924            37          22            37       12647            37   \n",
       "\n",
       "         ost_prob  isload  fr_id  last_fr_id  distance  \n",
       "0           36899       0   5032        1413        -1  \n",
       "1           36899       1   1204        1204       998  \n",
       "2           36711       1   1204        1204       989  \n",
       "3           36711       1   1204        1204       939  \n",
       "4           36711       1   1204        1204       963  \n",
       "...           ...     ...    ...         ...       ...  \n",
       "1052920     87693       0   5032        3253        -1  \n",
       "1052921     87693       0   5032        3253        -1  \n",
       "1052922     87693       0   5032        3253        -1  \n",
       "1052923     87693       0   5032        3253        -1  \n",
       "1052924     87693       0   5032        3253        -1  \n",
       "\n",
       "[6250933 rows x 16 columns]"
      ]
     },
     "execution_count": 32,
     "metadata": {},
     "output_type": "execute_result"
    }
   ],
   "source": [
    "dislok = pd.read_parquet(path_train + '/dislok_wagons.parquet').convert_dtypes()\n",
    "dislok"
   ]
  },
  {
   "cell_type": "code",
   "execution_count": 5,
   "metadata": {
    "pycharm": {
     "name": "#%%\n"
    }
   },
   "outputs": [],
   "source": [
    "wag_param = wag_param.drop_duplicates(subset='wagnum', keep='last')# у вагонов могут меняться параметры, поэтмоу номер дублируется. В данной модели это фактор не учитывается"
   ]
  },
  {
   "cell_type": "code",
   "execution_count": 35,
   "metadata": {
    "pycharm": {
     "name": "#%%\n"
    }
   },
   "outputs": [],
   "source": [
    "month_to_predict = pd.to_datetime('2022-12-01')"
   ]
  },
  {
   "cell_type": "code",
   "execution_count": 7,
   "metadata": {
    "pycharm": {
     "name": "#%%\n"
    }
   },
   "outputs": [],
   "source": [
    "target.month = pd.to_datetime(target.month)\n",
    "target = target[target.month == month_to_predict][['wagnum','target_month','target_day']]"
   ]
  },
  {
   "cell_type": "code",
   "execution_count": 8,
   "metadata": {
    "pycharm": {
     "name": "#%%\n"
    }
   },
   "outputs": [
    {
     "data": {
      "text/plain": [
       "(1584, 570)"
      ]
     },
     "execution_count": 8,
     "metadata": {},
     "output_type": "execute_result"
    }
   ],
   "source": [
    "target.target_month.sum(), target.target_day.sum()"
   ]
  },
  {
   "cell_type": "markdown",
   "metadata": {},
   "source": [
    "# Наивная модель"
   ]
  },
  {
   "cell_type": "markdown",
   "metadata": {},
   "source": [
    "Наивная модель будет построена на правилах с использованием минимального набора данных, без применения Ml.\n",
    "\n",
    "Реальный процесс выглядит следующим образом - в начале месяца берется срез по парку по всем вагонам, за ремонт которых несёт ответственность ПГК. Для выбранных вагонов требуется установить, какие из них будут отремонтированы в текущем месяце. Данная информация помогает планировать нагрузку на вагоно-ремонтное предприятие(ВРП). Вторая модель определяет критичные вагоны, которые будут отправлены в ремонт в первую очередь( в ближайшие 10 дней). Это помогает фокусировать внимание диспетчеров.\n",
    "\n",
    "Основными критериями по которым вагон отправляется в плановый ремонт - является его остаточный пробег и срок до планового ремонта.\n",
    "В регламентах РЖД используется следующее правило - если ресурс по пробегу не превышает 500 км и/или плановый ремонт должен наступить через 15 дней(или меньше), то вагон может ехать только на ВРП.\n",
    "Из этого регламента вытекают две особенности:\n",
    "1. Диспетчер старается отправить вагон раньше положенных значений. Это позволяет выбрать предприятия, на которых ремонтироваться дешевле, а не ближайшее.\n",
    "2. Компания-оператор может выбирать какому из нормативов нужно следовать - ремонтировать вагон по сроку, или по пробегу, или по обоим критериям сразу. Поэтому встречаются вагоны, у которых пробег может не отслеживаться.\n",
    "\n",
    "Вагон может быть отправлен в плановый ремонт и раньше положенного. На это может влиять, например, история грузовых операций и количество текущих(мелких) ремонтов. Основная цель участников в данной задаче - найти закономерности и оценить значимые признаки, по которым вагон выбывает в плановый ремонт."
   ]
  },
  {
   "cell_type": "markdown",
   "metadata": {},
   "source": [
    "## Подготовка данных"
   ]
  },
  {
   "cell_type": "code",
   "execution_count": 5,
   "metadata": {
    "pycharm": {
     "name": "#%%\n"
    }
   },
   "outputs": [
    {
     "data": {
      "text/html": [
       "<div>\n",
       "<style scoped>\n",
       "    .dataframe tbody tr th:only-of-type {\n",
       "        vertical-align: middle;\n",
       "    }\n",
       "\n",
       "    .dataframe tbody tr th {\n",
       "        vertical-align: top;\n",
       "    }\n",
       "\n",
       "    .dataframe thead th {\n",
       "        text-align: right;\n",
       "    }\n",
       "</style>\n",
       "<table border=\"1\" class=\"dataframe\">\n",
       "  <thead>\n",
       "    <tr style=\"text-align: right;\">\n",
       "      <th></th>\n",
       "      <th>repdate</th>\n",
       "      <th>wagnum</th>\n",
       "      <th>ost_prob</th>\n",
       "      <th>manage_type</th>\n",
       "      <th>rod_id</th>\n",
       "      <th>reestr_state</th>\n",
       "      <th>ownership_type</th>\n",
       "      <th>month</th>\n",
       "    </tr>\n",
       "  </thead>\n",
       "  <tbody>\n",
       "    <tr>\n",
       "      <th>count</th>\n",
       "      <td>6249857</td>\n",
       "      <td>6249857.0</td>\n",
       "      <td>5992898.0</td>\n",
       "      <td>6249857.0</td>\n",
       "      <td>6249857.0</td>\n",
       "      <td>6249857.0</td>\n",
       "      <td>6249857.0</td>\n",
       "      <td>6249857.0</td>\n",
       "    </tr>\n",
       "    <tr>\n",
       "      <th>mean</th>\n",
       "      <td>2022-10-31 11:26:08.730997504</td>\n",
       "      <td>16990.016822</td>\n",
       "      <td>87916.423663</td>\n",
       "      <td>0.06577</td>\n",
       "      <td>0.611887</td>\n",
       "      <td>1.000644</td>\n",
       "      <td>0.0</td>\n",
       "      <td>8.485699</td>\n",
       "    </tr>\n",
       "    <tr>\n",
       "      <th>min</th>\n",
       "      <td>2022-08-01 00:00:00</td>\n",
       "      <td>0.0</td>\n",
       "      <td>-48906.0</td>\n",
       "      <td>0.0</td>\n",
       "      <td>0.0</td>\n",
       "      <td>0.0</td>\n",
       "      <td>0.0</td>\n",
       "      <td>1.0</td>\n",
       "    </tr>\n",
       "    <tr>\n",
       "      <th>25%</th>\n",
       "      <td>2022-09-15 00:00:00</td>\n",
       "      <td>8499.0</td>\n",
       "      <td>34619.0</td>\n",
       "      <td>0.0</td>\n",
       "      <td>0.0</td>\n",
       "      <td>1.0</td>\n",
       "      <td>0.0</td>\n",
       "      <td>8.0</td>\n",
       "    </tr>\n",
       "    <tr>\n",
       "      <th>50%</th>\n",
       "      <td>2022-10-31 00:00:00</td>\n",
       "      <td>16992.0</td>\n",
       "      <td>78306.5</td>\n",
       "      <td>0.0</td>\n",
       "      <td>1.0</td>\n",
       "      <td>1.0</td>\n",
       "      <td>0.0</td>\n",
       "      <td>10.0</td>\n",
       "    </tr>\n",
       "    <tr>\n",
       "      <th>75%</th>\n",
       "      <td>2022-12-16 00:00:00</td>\n",
       "      <td>25484.0</td>\n",
       "      <td>130621.0</td>\n",
       "      <td>0.0</td>\n",
       "      <td>1.0</td>\n",
       "      <td>1.0</td>\n",
       "      <td>0.0</td>\n",
       "      <td>11.0</td>\n",
       "    </tr>\n",
       "    <tr>\n",
       "      <th>max</th>\n",
       "      <td>2023-01-31 00:00:00</td>\n",
       "      <td>33976.0</td>\n",
       "      <td>500000.0</td>\n",
       "      <td>1.0</td>\n",
       "      <td>1.0</td>\n",
       "      <td>2.0</td>\n",
       "      <td>0.0</td>\n",
       "      <td>12.0</td>\n",
       "    </tr>\n",
       "    <tr>\n",
       "      <th>std</th>\n",
       "      <td>NaN</td>\n",
       "      <td>9808.047671</td>\n",
       "      <td>71430.597863</td>\n",
       "      <td>0.24788</td>\n",
       "      <td>0.487321</td>\n",
       "      <td>0.027175</td>\n",
       "      <td>0.0</td>\n",
       "      <td>3.606935</td>\n",
       "    </tr>\n",
       "  </tbody>\n",
       "</table>\n",
       "</div>"
      ],
      "text/plain": [
       "                             repdate        wagnum      ost_prob  manage_type  \\\n",
       "count                        6249857     6249857.0     5992898.0    6249857.0   \n",
       "mean   2022-10-31 11:26:08.730997504  16990.016822  87916.423663      0.06577   \n",
       "min              2022-08-01 00:00:00           0.0      -48906.0          0.0   \n",
       "25%              2022-09-15 00:00:00        8499.0       34619.0          0.0   \n",
       "50%              2022-10-31 00:00:00       16992.0       78306.5          0.0   \n",
       "75%              2022-12-16 00:00:00       25484.0      130621.0          0.0   \n",
       "max              2023-01-31 00:00:00       33976.0      500000.0          1.0   \n",
       "std                              NaN   9808.047671  71430.597863      0.24788   \n",
       "\n",
       "          rod_id  reestr_state  ownership_type      month  \n",
       "count  6249857.0     6249857.0       6249857.0  6249857.0  \n",
       "mean    0.611887      1.000644             0.0   8.485699  \n",
       "min          0.0           0.0             0.0        1.0  \n",
       "25%          0.0           1.0             0.0        8.0  \n",
       "50%          1.0           1.0             0.0       10.0  \n",
       "75%          1.0           1.0             0.0       11.0  \n",
       "max          1.0           2.0             0.0       12.0  \n",
       "std     0.487321      0.027175             0.0   3.606935  "
      ]
     },
     "execution_count": 5,
     "metadata": {},
     "output_type": "execute_result"
    }
   ],
   "source": [
    "# оставим только данные по остаточному пробегу для каждого номерав вагона\n",
    "# wag_prob = wag_prob[(wag_prob.repdate == month_to_predict) | (wag_prob.repdate == wag_prob.repdate.min())]\n",
    "wag_prob.describe()"
   ]
  },
  {
   "cell_type": "code",
   "execution_count": 10,
   "metadata": {
    "pycharm": {
     "name": "#%%\n"
    }
   },
   "outputs": [],
   "source": [
    "# оценим среднесуточный пробег из данных по пробегу вагона, на тот случай, если данных по нормативу нет\n",
    "wag_prob_ =wag_prob.groupby('wagnum', as_index = False).agg({'repdate':['max', 'min'] , 'ost_prob': ['max','min']},)#.droplevel(1)\n",
    "wag_prob_.columns = [head+'_' + name\n",
    "                     if head!='wagnum'\n",
    "                     else head\n",
    "                     for head, name in wag_prob_.columns ]\n",
    "\n",
    "wag_prob_['diff_days'] = wag_prob_.repdate_max - wag_prob_.repdate_min\n",
    "wag_prob_['mean_run'] = (wag_prob_.ost_prob_max - wag_prob_.ost_prob_min )/ wag_prob_.diff_days.dt.days\n",
    "wag_prob = wag_prob[wag_prob.repdate == wag_prob.repdate.max()][['wagnum','ost_prob']]\n",
    "wag_prob = wag_prob.merge(wag_prob_[['wagnum','mean_run']])"
   ]
  },
  {
   "cell_type": "code",
   "execution_count": 11,
   "metadata": {
    "pycharm": {
     "name": "#%%\n"
    }
   },
   "outputs": [],
   "source": [
    "# для каждого вагона оставим только информацию по сроку службы и нормативу суточного пробега между ПР\n",
    "wag_param = wag_param[['wagnum','srok_sl','cnsi_probeg_dr','cnsi_probeg_kr']]"
   ]
  },
  {
   "cell_type": "code",
   "execution_count": 12,
   "metadata": {
    "pycharm": {
     "name": "#%%\n"
    }
   },
   "outputs": [],
   "source": [
    "# добавим признак, что вагон был в ПР в предыдущем месяце. Скорее всего, если вагон был в ПР недавно, то повторно он не поедет\n",
    "pr_rem['was_repair_in_prev_month'] = 1\n",
    "pr_rem = pr_rem[['wagnum','was_repair_in_prev_month']]\n",
    "pr_rem = pr_rem.drop_duplicates(subset='wagnum') #некоторые вагоны все же ремонтируются больше 1 раза, поэтому нужен сбросить дубли"
   ]
  },
  {
   "cell_type": "code",
   "execution_count": 13,
   "metadata": {
    "pycharm": {
     "name": "#%%\n"
    }
   },
   "outputs": [],
   "source": [
    "# посчитаем сколько текущих ремонтов было за прошедший период\n",
    "tr_rem = tr_rem.groupby('wagnum', as_index= False).kod_vrab.count()"
   ]
  },
  {
   "cell_type": "code",
   "execution_count": 14,
   "metadata": {
    "pycharm": {
     "name": "#%%\n"
    }
   },
   "outputs": [],
   "source": [
    "# сохраним только дату следующего планового ремонта для вагона\n",
    "dislok = dislok[['wagnum','date_pl_rem']].drop_duplicates(subset = 'wagnum', keep='last')"
   ]
  },
  {
   "cell_type": "code",
   "execution_count": 15,
   "metadata": {
    "pycharm": {
     "name": "#%%\n"
    }
   },
   "outputs": [],
   "source": [
    "# соберем все данные вместе\n",
    "wp = target[['wagnum']].merge(wag_param, on ='wagnum', how = 'left')\\\n",
    "             .merge(wag_prob, how = 'left')\\\n",
    "             .merge(pr_rem, how = 'left')\\\n",
    "             .merge(tr_rem, how = 'left')\\\n",
    "             .merge(dislok, how = 'left')"
   ]
  },
  {
   "cell_type": "code",
   "execution_count": 16,
   "metadata": {
    "pycharm": {
     "name": "#%%\n"
    }
   },
   "outputs": [
    {
     "data": {
      "text/html": [
       "<div>\n",
       "<style scoped>\n",
       "    .dataframe tbody tr th:only-of-type {\n",
       "        vertical-align: middle;\n",
       "    }\n",
       "\n",
       "    .dataframe tbody tr th {\n",
       "        vertical-align: top;\n",
       "    }\n",
       "\n",
       "    .dataframe thead th {\n",
       "        text-align: right;\n",
       "    }\n",
       "</style>\n",
       "<table border=\"1\" class=\"dataframe\">\n",
       "  <thead>\n",
       "    <tr style=\"text-align: right;\">\n",
       "      <th></th>\n",
       "      <th>wagnum</th>\n",
       "      <th>srok_sl</th>\n",
       "      <th>cnsi_probeg_dr</th>\n",
       "      <th>cnsi_probeg_kr</th>\n",
       "      <th>ost_prob</th>\n",
       "      <th>mean_run</th>\n",
       "      <th>was_repair_in_prev_month</th>\n",
       "      <th>kod_vrab</th>\n",
       "      <th>date_pl_rem</th>\n",
       "    </tr>\n",
       "  </thead>\n",
       "  <tbody>\n",
       "    <tr>\n",
       "      <th>0</th>\n",
       "      <td>33361</td>\n",
       "      <td>2033-03-01</td>\n",
       "      <td>110</td>\n",
       "      <td>160</td>\n",
       "      <td>159916</td>\n",
       "      <td>1248.97541</td>\n",
       "      <td>1.0</td>\n",
       "      <td>3</td>\n",
       "      <td>2023-02-17</td>\n",
       "    </tr>\n",
       "    <tr>\n",
       "      <th>1</th>\n",
       "      <td>33364</td>\n",
       "      <td>2031-04-12</td>\n",
       "      <td>110</td>\n",
       "      <td>160</td>\n",
       "      <td>4268</td>\n",
       "      <td>269.139344</td>\n",
       "      <td>1.0</td>\n",
       "      <td>2</td>\n",
       "      <td>2023-10-03</td>\n",
       "    </tr>\n",
       "    <tr>\n",
       "      <th>2</th>\n",
       "      <td>33366</td>\n",
       "      <td>2032-01-21</td>\n",
       "      <td>110</td>\n",
       "      <td>160</td>\n",
       "      <td>1507</td>\n",
       "      <td>71.598361</td>\n",
       "      <td>1.0</td>\n",
       "      <td>2</td>\n",
       "      <td>2023-04-03</td>\n",
       "    </tr>\n",
       "    <tr>\n",
       "      <th>3</th>\n",
       "      <td>33358</td>\n",
       "      <td>2032-11-30</td>\n",
       "      <td>110</td>\n",
       "      <td>160</td>\n",
       "      <td>30223</td>\n",
       "      <td>95.114754</td>\n",
       "      <td>NaN</td>\n",
       "      <td>2</td>\n",
       "      <td>2024-02-23</td>\n",
       "    </tr>\n",
       "    <tr>\n",
       "      <th>4</th>\n",
       "      <td>33349</td>\n",
       "      <td>2033-12-04</td>\n",
       "      <td>110</td>\n",
       "      <td>160</td>\n",
       "      <td>153839</td>\n",
       "      <td>1214.07377</td>\n",
       "      <td>1.0</td>\n",
       "      <td>&lt;NA&gt;</td>\n",
       "      <td>2023-07-06</td>\n",
       "    </tr>\n",
       "  </tbody>\n",
       "</table>\n",
       "</div>"
      ],
      "text/plain": [
       "   wagnum    srok_sl  cnsi_probeg_dr  cnsi_probeg_kr  ost_prob    mean_run  \\\n",
       "0   33361 2033-03-01             110             160    159916  1248.97541   \n",
       "1   33364 2031-04-12             110             160      4268  269.139344   \n",
       "2   33366 2032-01-21             110             160      1507   71.598361   \n",
       "3   33358 2032-11-30             110             160     30223   95.114754   \n",
       "4   33349 2033-12-04             110             160    153839  1214.07377   \n",
       "\n",
       "   was_repair_in_prev_month  kod_vrab date_pl_rem  \n",
       "0                       1.0         3  2023-02-17  \n",
       "1                       1.0         2  2023-10-03  \n",
       "2                       1.0         2  2023-04-03  \n",
       "3                       NaN         2  2024-02-23  \n",
       "4                       1.0      <NA>  2023-07-06  "
      ]
     },
     "execution_count": 16,
     "metadata": {},
     "output_type": "execute_result"
    }
   ],
   "source": [
    "wp.head()"
   ]
  },
  {
   "cell_type": "code",
   "execution_count": 17,
   "metadata": {
    "pycharm": {
     "name": "#%%\n"
    }
   },
   "outputs": [],
   "source": [
    "# Получим среднесуточный пробег, как среднее от нормативов и реального пробега\n",
    "wp[['cnsi_probeg_dr','cnsi_probeg_kr','mean_run']] = wp[['cnsi_probeg_dr','cnsi_probeg_kr','mean_run']].fillna(0)\n",
    "wp['day_run'] = wp.apply(lambda x : [ val  for val in [x.cnsi_probeg_kr, x.cnsi_probeg_dr, x.mean_run] if val != 0], axis = 1 )\n",
    "wp['day_run']= wp.apply(lambda x : np.mean(x.day_run) if len(x.day_run)> 0 else 0, axis = 1 )"
   ]
  },
  {
   "cell_type": "code",
   "execution_count": 18,
   "metadata": {
    "pycharm": {
     "name": "#%%\n"
    }
   },
   "outputs": [],
   "source": [
    "wp['current_date'] = month_to_predict"
   ]
  },
  {
   "cell_type": "code",
   "execution_count": 19,
   "metadata": {
    "pycharm": {
     "name": "#%%\n"
    }
   },
   "outputs": [],
   "source": [
    "# определим, сколько дней осталось до истечения срока службы\n",
    "wp['date_diff_srk_sl'] = wp['srok_sl']- wp['current_date']"
   ]
  },
  {
   "cell_type": "code",
   "execution_count": 20,
   "metadata": {
    "pycharm": {
     "name": "#%%\n"
    }
   },
   "outputs": [],
   "source": [
    "# определим, сколько дней осталось до ближайшего ПР\n",
    "wp['date_diff_pl_rem'] = wp['date_pl_rem']- wp['current_date']"
   ]
  },
  {
   "cell_type": "code",
   "execution_count": 21,
   "metadata": {
    "pycharm": {
     "name": "#%%\n"
    }
   },
   "outputs": [],
   "source": [
    "# определим, какой остаточный ресурс будет на момент окончания месяца\n",
    "wp['prob_end_month'] = wp['ost_prob'] - wp['day_run']* 30"
   ]
  },
  {
   "cell_type": "code",
   "execution_count": 22,
   "metadata": {
    "pycharm": {
     "name": "#%%\n"
    }
   },
   "outputs": [],
   "source": [
    "wp['target_month'] = 0"
   ]
  },
  {
   "cell_type": "code",
   "execution_count": 23,
   "metadata": {
    "pycharm": {
     "name": "#%%\n"
    }
   },
   "outputs": [],
   "source": [
    "# вагон выбывает в ПР в следующем месяце, если:\n",
    "# остаточный пробег < 5 000 км\n",
    "# срок службы < 500 лней\n",
    "# до следующего  ПР < 40 дней\n",
    "# ,число текущих ремонтов > 5\n",
    "wp.loc[(wp.prob_end_month <= 5000) \\\n",
    "       | (wp.date_diff_srk_sl < pd.to_timedelta(40))\\\n",
    "        | (wp.date_diff_pl_rem < pd.to_timedelta(10)) \\\n",
    "        | (wp.kod_vrab > 5),'target_month'] = 1"
   ]
  },
  {
   "cell_type": "code",
   "execution_count": 24,
   "metadata": {
    "pycharm": {
     "name": "#%%\n"
    }
   },
   "outputs": [],
   "source": [
    "wp['target_day'] = wp['target_month']"
   ]
  },
  {
   "cell_type": "code",
   "execution_count": 25,
   "metadata": {
    "pycharm": {
     "name": "#%%\n"
    }
   },
   "outputs": [],
   "source": [
    "pred_target = target[['wagnum']].merge(wp[['wagnum','target_month','target_day']],how = 'left')\n",
    "pred_target = pred_target.drop_duplicates(subset = 'wagnum')"
   ]
  },
  {
   "cell_type": "code",
   "execution_count": 26,
   "metadata": {
    "pycharm": {
     "name": "#%%\n"
    }
   },
   "outputs": [
    {
     "data": {
      "text/plain": [
       "3.5"
      ]
     },
     "execution_count": 26,
     "metadata": {},
     "output_type": "execute_result"
    }
   ],
   "source": [
    "# Проверим соотношение отмеченных вагонов с фактическим значением\n",
    "round(pred_target.target_month.sum() / target.target_month.sum(), 2)"
   ]
  },
  {
   "cell_type": "code",
   "execution_count": 27,
   "metadata": {
    "pycharm": {
     "name": "#%%\n"
    }
   },
   "outputs": [],
   "source": [
    "# сохраним таргет за месяц  для выбранного периода отдельно\n",
    "target_path = './prediction/target_predicton.csv'"
   ]
  },
  {
   "cell_type": "code",
   "execution_count": 28,
   "metadata": {
    "pycharm": {
     "name": "#%%\n"
    }
   },
   "outputs": [],
   "source": [
    "pred_target.drop_duplicates(subset = 'wagnum').to_csv(target_path, index=False)"
   ]
  },
  {
   "cell_type": "code",
   "execution_count": 29,
   "metadata": {
    "pycharm": {
     "name": "#%%\n"
    }
   },
   "outputs": [],
   "source": [
    "true_target_path = './prediction/target_predicton_true.csv'"
   ]
  },
  {
   "cell_type": "code",
   "execution_count": 30,
   "metadata": {
    "pycharm": {
     "name": "#%%\n"
    }
   },
   "outputs": [],
   "source": [
    "target.drop_duplicates(subset = 'wagnum').to_csv(true_target_path, index=False)"
   ]
  },
  {
   "cell_type": "code",
   "execution_count": 31,
   "metadata": {
    "pycharm": {
     "name": "#%%\n"
    }
   },
   "outputs": [
    {
     "data": {
      "text/plain": [
       "0.23121339736861674"
      ]
     },
     "execution_count": 31,
     "metadata": {},
     "output_type": "execute_result"
    }
   ],
   "source": [
    "# оценим насколько хорошо удалось предсказать выбытие вагонов  по месяцу и по 10 дням\n",
    "calc_f1_score( true_target_path, target_path,)"
   ]
  },
  {
   "cell_type": "code",
   "execution_count": 31,
   "metadata": {
    "pycharm": {
     "name": "#%%\n"
    }
   },
   "outputs": [],
   "source": []
  }
 ],
 "metadata": {
  "kernelspec": {
   "display_name": "task_01",
   "language": "python",
   "name": "task_01"
  },
  "language_info": {
   "codemirror_mode": {
    "name": "ipython",
    "version": 3
   },
   "file_extension": ".py",
   "mimetype": "text/x-python",
   "name": "python",
   "nbconvert_exporter": "python",
   "pygments_lexer": "ipython3",
   "version": "3.11.4"
  }
 },
 "nbformat": 4,
 "nbformat_minor": 4
}
